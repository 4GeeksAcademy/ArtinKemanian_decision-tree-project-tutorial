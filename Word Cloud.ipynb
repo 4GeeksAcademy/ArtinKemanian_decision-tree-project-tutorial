{
 "cells": [
  {
   "cell_type": "code",
   "execution_count": 19,
   "metadata": {},
   "outputs": [],
   "source": [
    "import os\n",
    "import numpy as np\n",
    "import matplotlib.pyplot as plt\n",
    "from wordcloud import WordCloud\n",
    "import pandas as pd\n",
    "from nltk import download\n",
    "from nltk.corpus import stopwords\n",
    "from nltk.stem import WordNetLemmatizer\n",
    "import regex as re"
   ]
  },
  {
   "cell_type": "code",
   "execution_count": null,
   "metadata": {},
   "outputs": [],
   "source": [
    "df = pd.read_csv('kickstarter_data_2024.csv')"
   ]
  },
  {
   "cell_type": "code",
   "execution_count": null,
   "metadata": {},
   "outputs": [
    {
     "data": {
      "text/html": [
       "<div>\n",
       "<style scoped>\n",
       "    .dataframe tbody tr th:only-of-type {\n",
       "        vertical-align: middle;\n",
       "    }\n",
       "\n",
       "    .dataframe tbody tr th {\n",
       "        vertical-align: top;\n",
       "    }\n",
       "\n",
       "    .dataframe thead th {\n",
       "        text-align: right;\n",
       "    }\n",
       "</style>\n",
       "<table border=\"1\" class=\"dataframe\">\n",
       "  <thead>\n",
       "    <tr style=\"text-align: right;\">\n",
       "      <th></th>\n",
       "      <th>blurb</th>\n",
       "      <th>state</th>\n",
       "    </tr>\n",
       "  </thead>\n",
       "  <tbody>\n",
       "    <tr>\n",
       "      <th>0</th>\n",
       "      <td>Astrological Connections and Personal Wisdom</td>\n",
       "      <td>live</td>\n",
       "    </tr>\n",
       "    <tr>\n",
       "      <th>1</th>\n",
       "      <td>Cozy Kornerz is a fun new redecorating tool th...</td>\n",
       "      <td>live</td>\n",
       "    </tr>\n",
       "    <tr>\n",
       "      <th>2</th>\n",
       "      <td>I want to design an exercise Matt with practic...</td>\n",
       "      <td>live</td>\n",
       "    </tr>\n",
       "    <tr>\n",
       "      <th>3</th>\n",
       "      <td>A space engineered to promote informed consume...</td>\n",
       "      <td>submitted</td>\n",
       "    </tr>\n",
       "    <tr>\n",
       "      <th>4</th>\n",
       "      <td>YourMD Online Connect: Redefining Telehealth f...</td>\n",
       "      <td>submitted</td>\n",
       "    </tr>\n",
       "  </tbody>\n",
       "</table>\n",
       "</div>"
      ],
      "text/plain": [
       "                                               blurb      state\n",
       "0       Astrological Connections and Personal Wisdom       live\n",
       "1  Cozy Kornerz is a fun new redecorating tool th...       live\n",
       "2  I want to design an exercise Matt with practic...       live\n",
       "3  A space engineered to promote informed consume...  submitted\n",
       "4  YourMD Online Connect: Redefining Telehealth f...  submitted"
      ]
     },
     "execution_count": 13,
     "metadata": {},
     "output_type": "execute_result"
    }
   ],
   "source": [
    "blurb_data = df[['blurb', 'state']]\n"
   ]
  },
  {
   "cell_type": "code",
   "execution_count": null,
   "metadata": {},
   "outputs": [
    {
     "data": {
      "text/html": [
       "<div>\n",
       "<style scoped>\n",
       "    .dataframe tbody tr th:only-of-type {\n",
       "        vertical-align: middle;\n",
       "    }\n",
       "\n",
       "    .dataframe tbody tr th {\n",
       "        vertical-align: top;\n",
       "    }\n",
       "\n",
       "    .dataframe thead th {\n",
       "        text-align: right;\n",
       "    }\n",
       "</style>\n",
       "<table border=\"1\" class=\"dataframe\">\n",
       "  <thead>\n",
       "    <tr style=\"text-align: right;\">\n",
       "      <th></th>\n",
       "      <th>index</th>\n",
       "      <th>blurb</th>\n",
       "      <th>state</th>\n",
       "    </tr>\n",
       "  </thead>\n",
       "  <tbody>\n",
       "    <tr>\n",
       "      <th>0</th>\n",
       "      <td>9</td>\n",
       "      <td>Small knife. Big tasks. No-frills, purpose dri...</td>\n",
       "      <td>successful</td>\n",
       "    </tr>\n",
       "    <tr>\n",
       "      <th>1</th>\n",
       "      <td>10</td>\n",
       "      <td>A beautifully designed stainless steel mirror ...</td>\n",
       "      <td>successful</td>\n",
       "    </tr>\n",
       "    <tr>\n",
       "      <th>2</th>\n",
       "      <td>11</td>\n",
       "      <td>A discreet beverage dispensing and storage sol...</td>\n",
       "      <td>successful</td>\n",
       "    </tr>\n",
       "    <tr>\n",
       "      <th>3</th>\n",
       "      <td>12</td>\n",
       "      <td>Kickstarter exclusive dark mode hardcover &amp; sp...</td>\n",
       "      <td>successful</td>\n",
       "    </tr>\n",
       "    <tr>\n",
       "      <th>4</th>\n",
       "      <td>13</td>\n",
       "      <td>Help us fund the upcoming audiobook by securin...</td>\n",
       "      <td>successful</td>\n",
       "    </tr>\n",
       "    <tr>\n",
       "      <th>...</th>\n",
       "      <td>...</td>\n",
       "      <td>...</td>\n",
       "      <td>...</td>\n",
       "    </tr>\n",
       "    <tr>\n",
       "      <th>1967818</th>\n",
       "      <td>2207594</td>\n",
       "      <td>The most comfortable, high quality and eco-fri...</td>\n",
       "      <td>successful</td>\n",
       "    </tr>\n",
       "    <tr>\n",
       "      <th>1967819</th>\n",
       "      <td>2207595</td>\n",
       "      <td>Great news for your wardrobe and the planet</td>\n",
       "      <td>successful</td>\n",
       "    </tr>\n",
       "    <tr>\n",
       "      <th>1967820</th>\n",
       "      <td>2207596</td>\n",
       "      <td>A collection inspired by vintage Valentine’s l...</td>\n",
       "      <td>successful</td>\n",
       "    </tr>\n",
       "    <tr>\n",
       "      <th>1967821</th>\n",
       "      <td>2207598</td>\n",
       "      <td>\"Le Chèile\" is a stunning new album by Mckerro...</td>\n",
       "      <td>successful</td>\n",
       "    </tr>\n",
       "    <tr>\n",
       "      <th>1967822</th>\n",
       "      <td>2207599</td>\n",
       "      <td>Blackbird will be an incubator for up-and-comi...</td>\n",
       "      <td>successful</td>\n",
       "    </tr>\n",
       "  </tbody>\n",
       "</table>\n",
       "<p>1967823 rows × 3 columns</p>\n",
       "</div>"
      ],
      "text/plain": [
       "           index                                              blurb  \\\n",
       "0              9  Small knife. Big tasks. No-frills, purpose dri...   \n",
       "1             10  A beautifully designed stainless steel mirror ...   \n",
       "2             11  A discreet beverage dispensing and storage sol...   \n",
       "3             12  Kickstarter exclusive dark mode hardcover & sp...   \n",
       "4             13  Help us fund the upcoming audiobook by securin...   \n",
       "...          ...                                                ...   \n",
       "1967818  2207594  The most comfortable, high quality and eco-fri...   \n",
       "1967819  2207595        Great news for your wardrobe and the planet   \n",
       "1967820  2207596  A collection inspired by vintage Valentine’s l...   \n",
       "1967821  2207598  \"Le Chèile\" is a stunning new album by Mckerro...   \n",
       "1967822  2207599  Blackbird will be an incubator for up-and-comi...   \n",
       "\n",
       "              state  \n",
       "0        successful  \n",
       "1        successful  \n",
       "2        successful  \n",
       "3        successful  \n",
       "4        successful  \n",
       "...             ...  \n",
       "1967818  successful  \n",
       "1967819  successful  \n",
       "1967820  successful  \n",
       "1967821  successful  \n",
       "1967822  successful  \n",
       "\n",
       "[1967823 rows x 3 columns]"
      ]
     },
     "execution_count": 15,
     "metadata": {},
     "output_type": "execute_result"
    }
   ],
   "source": [
    "blurb_data = blurb_data[blurb_data['state'] != \"live\"]\n",
    "blurb_data = blurb_data[blurb_data['state'] != \"submitted\"]\n",
    "blurb_data = blurb_data[blurb_data['state'] != \"canceled\"]\n",
    "blurb_data = blurb_data[blurb_data['state'] != \"started\"]\n",
    "blurb_data = blurb_data[blurb_data['state'] != \"suspended\"]\n",
    "blurb_data.head()\n",
    "# blurb_data.reset_index()"
   ]
  },
  {
   "cell_type": "code",
   "execution_count": 6,
   "metadata": {},
   "outputs": [
    {
     "data": {
      "text/plain": [
       "state\n",
       "successful    1259312\n",
       "failed         708511\n",
       "Name: count, dtype: int64"
      ]
     },
     "execution_count": 6,
     "metadata": {},
     "output_type": "execute_result"
    }
   ],
   "source": [
    "blurb_data['state'].value_counts()"
   ]
  },
  {
   "cell_type": "code",
   "execution_count": 7,
   "metadata": {},
   "outputs": [
    {
     "data": {
      "text/plain": [
       "state\n",
       "1    1259312\n",
       "0     708511\n",
       "Name: count, dtype: int64"
      ]
     },
     "execution_count": 7,
     "metadata": {},
     "output_type": "execute_result"
    }
   ],
   "source": [
    "blurb_data[\"state\"] = blurb_data[\"state\"].apply(lambda x: 1 if x == \"successful\" else 0).astype(int)\n",
    "blurb_data['state'].value_counts()"
   ]
  },
  {
   "cell_type": "code",
   "execution_count": 8,
   "metadata": {},
   "outputs": [
    {
     "data": {
      "text/plain": [
       "(207225, 2)"
      ]
     },
     "execution_count": 8,
     "metadata": {},
     "output_type": "execute_result"
    }
   ],
   "source": [
    "blurb_data = blurb_data.drop_duplicates()\n",
    "blurb_data = blurb_data.reset_index(inplace = False, drop = True)\n",
    "blurb_data.shape"
   ]
  },
  {
   "cell_type": "code",
   "execution_count": 9,
   "metadata": {},
   "outputs": [],
   "source": [
    "blurb_data[blurb_data.select_dtypes(['object']).columns] = blurb_data.select_dtypes(['object']).astype(str)"
   ]
  },
  {
   "cell_type": "code",
   "execution_count": 12,
   "metadata": {},
   "outputs": [
    {
     "data": {
      "text/html": [
       "<div>\n",
       "<style scoped>\n",
       "    .dataframe tbody tr th:only-of-type {\n",
       "        vertical-align: middle;\n",
       "    }\n",
       "\n",
       "    .dataframe tbody tr th {\n",
       "        vertical-align: top;\n",
       "    }\n",
       "\n",
       "    .dataframe thead th {\n",
       "        text-align: right;\n",
       "    }\n",
       "</style>\n",
       "<table border=\"1\" class=\"dataframe\">\n",
       "  <thead>\n",
       "    <tr style=\"text-align: right;\">\n",
       "      <th></th>\n",
       "      <th>blurb</th>\n",
       "      <th>state</th>\n",
       "    </tr>\n",
       "  </thead>\n",
       "  <tbody>\n",
       "    <tr>\n",
       "      <th>0</th>\n",
       "      <td>[small, knife, big, tasks, no, frills, purpose...</td>\n",
       "      <td>1</td>\n",
       "    </tr>\n",
       "    <tr>\n",
       "      <th>1</th>\n",
       "      <td>[a, beautifully, designed, stainless, steel, m...</td>\n",
       "      <td>1</td>\n",
       "    </tr>\n",
       "    <tr>\n",
       "      <th>2</th>\n",
       "      <td>[a, discreet, beverage, dispensing, and, stora...</td>\n",
       "      <td>1</td>\n",
       "    </tr>\n",
       "    <tr>\n",
       "      <th>3</th>\n",
       "      <td>[kickstarter, exclusive, dark, mode, hardcover...</td>\n",
       "      <td>1</td>\n",
       "    </tr>\n",
       "    <tr>\n",
       "      <th>4</th>\n",
       "      <td>[help, us, fund, the, upcoming, audiobook, by,...</td>\n",
       "      <td>1</td>\n",
       "    </tr>\n",
       "  </tbody>\n",
       "</table>\n",
       "</div>"
      ],
      "text/plain": [
       "                                               blurb  state\n",
       "0  [small, knife, big, tasks, no, frills, purpose...      1\n",
       "1  [a, beautifully, designed, stainless, steel, m...      1\n",
       "2  [a, discreet, beverage, dispensing, and, stora...      1\n",
       "3  [kickstarter, exclusive, dark, mode, hardcover...      1\n",
       "4  [help, us, fund, the, upcoming, audiobook, by,...      1"
      ]
     },
     "execution_count": 12,
     "metadata": {},
     "output_type": "execute_result"
    }
   ],
   "source": [
    "def preprocess_text(text):\n",
    "    # Remove any character that is not a letter (a-z) or white space ( )\n",
    "    text = re.sub(r'[^a-zA-Z]', \" \", text)\n",
    "    \n",
    "    # Remove white spaces\n",
    "    text = re.sub(r'\\s+[a-zA-Z]\\s+', \" \", text)\n",
    "    text = re.sub(r'\\^[a-zA-Z]\\s+', \" \", text)\n",
    "\n",
    "    # Multiple white spaces into one\n",
    "    text = re.sub(r'\\s+', \" \", text.lower())\n",
    "\n",
    "    # Remove tags\n",
    "    text = re.sub(\"&lt;/?.*?&gt;\",\" &lt;&gt; \", text)\n",
    "\n",
    "    return text.split()\n",
    "\n",
    "blurb_data[\"blurb\"] = blurb_data[\"blurb\"].apply(preprocess_text)\n",
    "blurb_data.head()"
   ]
  },
  {
   "cell_type": "code",
   "execution_count": null,
   "metadata": {},
   "outputs": [
    {
     "name": "stderr",
     "output_type": "stream",
     "text": [
      "[nltk_data] Downloading package wordnet to C:\\Users\\Philip\n",
      "[nltk_data]     Nancollas\\AppData\\Roaming\\nltk_data...\n",
      "[nltk_data]   Package wordnet is already up-to-date!\n",
      "[nltk_data] Downloading package stopwords to C:\\Users\\Philip\n",
      "[nltk_data]     Nancollas\\AppData\\Roaming\\nltk_data...\n",
      "[nltk_data]   Package stopwords is already up-to-date!\n"
     ]
    }
   ],
   "source": [
    "download(\"wordnet\")\n",
    "lemmatizer = WordNetLemmatizer()\n",
    "\n",
    "download(\"stopwords\")\n",
    "stop_words = stopwords.words(\"english\")\n",
    "\n",
    "remove_words = ['designed']\n",
    "\n",
    "stop_words.append(remove_words)"
   ]
  },
  {
   "cell_type": "code",
   "execution_count": null,
   "metadata": {},
   "outputs": [],
   "source": [
    "def lemmatize_text(words, lemmatizer = lemmatizer):\n",
    "    tokens = [lemmatizer.lemmatize(word) for word in words]\n",
    "    tokens = [word for word in tokens if word not in stop_words]\n",
    "    tokens = [word for word in tokens if len(word) > 3]\n",
    "    return tokens\n",
    "\n",
    "blurb_data[\"blurb\"] = blurb_data[\"blurb\"].apply(lemmatize_text)\n",
    "blurb_data.head()"
   ]
  },
  {
   "cell_type": "code",
   "execution_count": null,
   "metadata": {},
   "outputs": [],
   "source": [
    "success_set = blurb_data[blurb_data['state'] == 1]\n",
    "failed_set = blurb_data[blurb_data['state'] == 0]"
   ]
  }
 ],
 "metadata": {
  "kernelspec": {
   "display_name": "Python 3",
   "language": "python",
   "name": "python3"
  },
  "language_info": {
   "codemirror_mode": {
    "name": "ipython",
    "version": 3
   },
   "file_extension": ".py",
   "mimetype": "text/x-python",
   "name": "python",
   "nbconvert_exporter": "python",
   "pygments_lexer": "ipython3",
   "version": "3.9.4"
  }
 },
 "nbformat": 4,
 "nbformat_minor": 2
}
